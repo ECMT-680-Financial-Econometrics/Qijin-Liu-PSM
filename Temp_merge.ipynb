{
 "cells": [
  {
   "cell_type": "code",
   "execution_count": 6,
   "metadata": {},
   "outputs": [
    {
     "name": "stdout",
     "output_type": "stream",
     "text": [
      "Requirement already satisfied: pandas in d:\\python\\lib\\site-packages (1.3.4)\n",
      "Collecting fastparquet\n",
      "  Downloading fastparquet-2024.2.0-cp38-cp38-win_amd64.whl.metadata (4.2 kB)\n",
      "Requirement already satisfied: python-dateutil>=2.7.3 in d:\\python\\lib\\site-packages (from pandas) (2.8.2)\n",
      "Requirement already satisfied: pytz>=2017.3 in d:\\python\\lib\\site-packages (from pandas) (2021.3)Note: you may need to restart the kernel to use updated packages.\n"
     ]
    },
    {
     "name": "stderr",
     "output_type": "stream",
     "text": [
      "  WARNING: Failed to remove contents in a temporary directory 'D:\\PYthon\\Lib\\site-packages\\~andas'.\n",
      "  You can safely remove it manually.\n",
      "ERROR: pip's dependency resolver does not currently take into account all the packages that are installed. This behaviour is the source of the following dependency conflicts.\n",
      "vega 3.5.0 requires pandas<2.0.0,>=1.0.0, but you have pandas 2.0.3 which is incompatible.\n"
     ]
    },
    {
     "name": "stdout",
     "output_type": "stream",
     "text": [
      "\n",
      "Requirement already satisfied: numpy>=1.17.3 in d:\\python\\lib\\site-packages (from pandas) (1.24.4)\n",
      "Collecting pandas\n",
      "  Downloading pandas-2.0.3-cp38-cp38-win_amd64.whl.metadata (18 kB)\n",
      "Collecting cramjam>=2.3 (from fastparquet)\n",
      "  Downloading cramjam-2.8.1-cp38-none-win_amd64.whl.metadata (4.2 kB)\n",
      "Collecting fsspec (from fastparquet)\n",
      "  Downloading fsspec-2024.2.0-py3-none-any.whl.metadata (6.8 kB)\n",
      "Requirement already satisfied: packaging in d:\\python\\lib\\site-packages (from fastparquet) (21.2)\n",
      "Collecting tzdata>=2022.1 (from pandas)\n",
      "  Downloading tzdata-2024.1-py2.py3-none-any.whl.metadata (1.4 kB)\n",
      "Requirement already satisfied: six>=1.5 in d:\\python\\lib\\site-packages (from python-dateutil>=2.7.3->pandas) (1.16.0)\n",
      "Requirement already satisfied: pyparsing<3,>=2.0.2 in d:\\python\\lib\\site-packages (from packaging->fastparquet) (2.4.7)\n",
      "Downloading fastparquet-2024.2.0-cp38-cp38-win_amd64.whl (671 kB)\n",
      "   --------------------------------------- 671.0/671.0 kB 14.1 MB/s eta 0:00:00\n",
      "Downloading pandas-2.0.3-cp38-cp38-win_amd64.whl (10.8 MB)\n",
      "   ---------------------------------------- 10.8/10.8 MB 36.4 MB/s eta 0:00:00\n",
      "Downloading cramjam-2.8.1-cp38-none-win_amd64.whl (1.6 MB)\n",
      "   ---------------------------------------- 1.6/1.6 MB 49.7 MB/s eta 0:00:00\n",
      "Downloading tzdata-2024.1-py2.py3-none-any.whl (345 kB)\n",
      "   --------------------------------------- 345.4/345.4 kB 20.9 MB/s eta 0:00:00\n",
      "Downloading fsspec-2024.2.0-py3-none-any.whl (170 kB)\n",
      "   --------------------------------------- 170.9/170.9 kB 10.0 MB/s eta 0:00:00\n",
      "Installing collected packages: tzdata, fsspec, cramjam, pandas, fastparquet\n",
      "  Attempting uninstall: pandas\n",
      "    Found existing installation: pandas 1.3.4\n",
      "    Uninstalling pandas-1.3.4:\n",
      "      Successfully uninstalled pandas-1.3.4\n",
      "Successfully installed cramjam-2.8.1 fastparquet-2024.2.0 fsspec-2024.2.0 pandas-2.0.3 tzdata-2024.1\n"
     ]
    }
   ],
   "source": [
    "pip install pandas fastparquet"
   ]
  },
  {
   "cell_type": "code",
   "execution_count": 1,
   "metadata": {},
   "outputs": [
    {
     "name": "stdout",
     "output_type": "stream",
     "text": [
      "   country    dist  year  mon  day    hr  daily_temp   temp_max   temp_min  \\\n",
      "0      188  188001  1983    1    1     0   18.537075  24.342688  14.158218   \n",
      "1      188  188001  1983    1    1   300   16.909227  24.342688  14.158218   \n",
      "2      188  188001  1983    1    1   600   15.450543  24.342688  14.158218   \n",
      "3      188  188001  1983    1    1   900   14.158218  24.342688  14.158218   \n",
      "4      188  188001  1983    1    1  1200   16.639402  24.342688  14.158218   \n",
      "\n",
      "    temp_avg  \n",
      "0  18.716593  \n",
      "1  18.716593  \n",
      "2  18.716593  \n",
      "3  18.716593  \n",
      "4  18.716593  \n"
     ]
    }
   ],
   "source": [
    "import os\n",
    "import pandas as pd\n",
    "\n",
    "# set the directory containing the Excel files\n",
    "directory = 'E:/680_temp/Daily_temp'\n",
    "file_prefix = 'temp_data_'\n",
    "file_extension = '.xlsx'\n",
    "\n",
    "# asumption of column names\n",
    "column_names = ['country', 'dist', 'year', 'mon', 'day','hr','daily_temp','temp_max','temp_min','temp_avg']  \n",
    "\n",
    "# list all files in the directory that match the prefix and extension\n",
    "files = [f for f in os.listdir(directory) if f.startswith(file_prefix) and f.endswith(file_extension)]\n",
    "\n",
    "# initialize an empty list to store the DataFrames\n",
    "data_frames = []\n",
    "\n",
    "# iterate over the files and read each Excel file into a DataFrame\n",
    "for file in files:\n",
    "    # read the Excel file into a DataFrame\n",
    "    df = pd.read_excel(os.path.join(directory, file), names=column_names)\n",
    "    # add the DataFrame to the list\n",
    "    data_frames.append(df)\n",
    "\n",
    "# merged all the DataFrames into a single DataFrame\n",
    "combined_df = pd.concat(data_frames, ignore_index=True)\n",
    "\n",
    "# print the head of the combined DataFrame to verify the result\n",
    "print(combined_df.head())\n",
    "\n"
   ]
  },
  {
   "cell_type": "code",
   "execution_count": 9,
   "metadata": {},
   "outputs": [],
   "source": [
    "\n",
    "# save the combined DataFrame to a Parquet file\n",
    "combined_df.to_parquet('E:/680_temp/Daily_temp/temp_merge_data.parquet')"
   ]
  }
 ],
 "metadata": {
  "kernelspec": {
   "display_name": "Python 3",
   "language": "python",
   "name": "python3"
  },
  "language_info": {
   "codemirror_mode": {
    "name": "ipython",
    "version": 3
   },
   "file_extension": ".py",
   "mimetype": "text/x-python",
   "name": "python",
   "nbconvert_exporter": "python",
   "pygments_lexer": "ipython3",
   "version": "3.8.0"
  }
 },
 "nbformat": 4,
 "nbformat_minor": 2
}
