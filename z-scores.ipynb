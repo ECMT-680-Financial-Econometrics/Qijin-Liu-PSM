{
 "cells": [
  {
   "cell_type": "code",
   "execution_count": 6,
   "metadata": {},
   "outputs": [],
   "source": [
    "import pandas as pd\n",
    "import numpy as np\n",
    "# Step 1: Load the Data\n",
    "df = pd.read_parquet('E:/680_temp/Daily_temp/temp_merge_data.parquet')"
   ]
  },
  {
   "cell_type": "code",
   "execution_count": 7,
   "metadata": {},
   "outputs": [
    {
     "data": {
      "text/plain": [
       "array([1983, 1984, 1985, 1986, 1987, 1988, 1989, 1990, 1991, 1992, 1993,\n",
       "       1994, 1995, 1996, 1997, 1998, 1999, 2000, 2001, 2002, 2003, 2004,\n",
       "       2005, 2006, 2007, 2008, 2009, 2010], dtype=int64)"
      ]
     },
     "execution_count": 7,
     "metadata": {},
     "output_type": "execute_result"
    }
   ],
   "source": [
    "df['year'].unique() # check the unique values of year"
   ]
  },
  {
   "cell_type": "code",
   "execution_count": 12,
   "metadata": {},
   "outputs": [],
   "source": [
    "# define the thresholds and country list\n",
    "thresholds = [99, 95, 90, 85, 80, 75]\n",
    "cntrylist = [188, 214, 222, 332, 388, 558, 591]\n",
    "\n",
    "# calculate the quantile of each threshold\n",
    "for threshold in thresholds:\n",
    "    df[f'threshold_{threshold}'] = df.groupby(['country', 'dist'])['temp_min'].transform(lambda x: x.quantile(threshold/100.0))\n",
    "\n",
    "# whether exceed the threshold\n",
    "for threshold in thresholds:\n",
    "    df[f'exceed_{threshold}'] = (df['temp_min'] > df[f'threshold_{threshold}']).astype(int)\n",
    "\n",
    "# calculate the number of days exceed the threshold\n",
    "for threshold in thresholds:\n",
    "    df[f'nday_exceed_{threshold}'] = df.groupby(['country', 'dist', 'year'])[f'exceed_{threshold}'].transform('sum')\n",
    "\n",
    "# calculate rolling mean and std\n",
    "for threshold in thresholds:\n",
    "    df[f'rolling_mean_{threshold}'] = df.groupby(['country', 'dist'])[f'nday_exceed_{threshold}'].transform(lambda x: x.rolling(window=5, min_periods=1).mean())\n",
    "    df[f'rolling_std_{threshold}'] = df.groupby(['country', 'dist'])[f'nday_exceed_{threshold}'].transform(lambda x: x.rolling(window=5, min_periods=1).std())\n",
    "\n",
    "# calculate z-score\n",
    "for threshold in thresholds:\n",
    "    df[f'z_{threshold}'] = (df[f'nday_exceed_{threshold}'] - df[f'rolling_mean_{threshold}']) / df[f'rolling_std_{threshold}']\n",
    "\n",
    "# choose the columns to save\n",
    "columns_to_save = ['country', 'dist', 'year'] + [f'z_{threshold}' for threshold in thresholds]\n",
    "df_final = df[columns_to_save]\n",
    "\n",
    "output_path = \"E:/680_temp/Daily_temp/z_withmex.csv\"  # replace with your save path\n",
    "df.to_csv(output_path, index=False)\n",
    "#df.to_parquet('E:/680_temp/Daily_temp/z_withmex.parquet')"
   ]
  }
 ],
 "metadata": {
  "kernelspec": {
   "display_name": "Python 3",
   "language": "python",
   "name": "python3"
  },
  "language_info": {
   "codemirror_mode": {
    "name": "ipython",
    "version": 3
   },
   "file_extension": ".py",
   "mimetype": "text/x-python",
   "name": "python",
   "nbconvert_exporter": "python",
   "pygments_lexer": "ipython3",
   "version": "3.8.0"
  }
 },
 "nbformat": 4,
 "nbformat_minor": 2
}
